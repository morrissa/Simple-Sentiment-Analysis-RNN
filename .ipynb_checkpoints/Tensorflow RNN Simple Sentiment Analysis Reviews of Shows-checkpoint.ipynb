{
 "cells": [
  {
   "cell_type": "code",
   "execution_count": 33,
   "metadata": {},
   "outputs": [],
   "source": [
    "import numpy as np\n",
    "import tensorflow as tf"
   ]
  },
  {
   "cell_type": "markdown",
   "metadata": {},
   "source": [
    "###### Get tensorflow version and check if GPUs are working"
   ]
  },
  {
   "cell_type": "code",
   "execution_count": 34,
   "metadata": {},
   "outputs": [
    {
     "name": "stdout",
     "output_type": "stream",
     "text": [
      "The tensorflow version being used is: 1.8.0\n",
      "Is there a GPU currently accessible?: True\n",
      "Is the environment build using Cuda?: True\n"
     ]
    }
   ],
   "source": [
    "\n",
    "print(\"The tensorflow version being used is: {}\".format(tf.__version__))\n",
    "print(\"Is there a GPU currently accessible?: {}\".format(tf.test.is_gpu_available()))\n",
    "print(\"Is the environment build using Cuda?: {}\".format(tf.test.is_built_with_cuda()))"
   ]
  },
  {
   "cell_type": "code",
   "execution_count": 35,
   "metadata": {},
   "outputs": [],
   "source": [
    "with open('reviews.txt', 'r') as f:\n",
    "    reviews = f.read()\n",
    "with open('labels.txt', 'r') as f:\n",
    "    labels = f.read()"
   ]
  },
  {
   "cell_type": "markdown",
   "metadata": {},
   "source": [
    "##### Sample some reviews\n"
   ]
  },
  {
   "cell_type": "code",
   "execution_count": 36,
   "metadata": {},
   "outputs": [
    {
     "data": {
      "text/plain": [
       "'bromwell high is a cartoon comedy . it ran at the same time as some other programs about school life  such as  teachers  . my   years in the teaching profession lead me to believe that bromwell high  s satire is much closer to reality than is  teachers  . the scramble to survive financially  the insightful students who can see right through their pathetic teachers  pomp  the pettiness of the whole situation  all remind me of the schools i knew and their students . when i saw the episode in which a student repeatedly tried to burn down the school  i immediately recalled . . . . . . . . . at . . . . . . . . . . high . a classic line inspector i  m here to sack one of your teachers . student welcome to bromwell high . i expect that many adults of my age think that bromwell high is far fetched . what a pity that it isn  t   \\nstory of a man who has unnatural feelings for a pig . starts out with a opening scene that is a terrific example of absurd comedy . a formal orchestra audience is turn'"
      ]
     },
     "execution_count": 36,
     "metadata": {},
     "output_type": "execute_result"
    }
   ],
   "source": [
    "\n",
    "\n",
    "reviews[:1000]"
   ]
  },
  {
   "cell_type": "markdown",
   "metadata": {},
   "source": [
    "##### Preprocess the data\n"
   ]
  },
  {
   "cell_type": "code",
   "execution_count": 37,
   "metadata": {},
   "outputs": [],
   "source": [
    "\n",
    "\n",
    "from string import punctuation\n",
    "text = ''.join([i for i in reviews if i not in punctuation])\n",
    "reviews = text.split('\\n')\n",
    "\n",
    "text = ''.join(reviews)\n",
    "word = text.split()"
   ]
  },
  {
   "cell_type": "code",
   "execution_count": 38,
   "metadata": {},
   "outputs": [
    {
     "data": {
      "text/plain": [
       "'bromwell high is a cartoon comedy  it ran at the same time as some other programs about school life  such as  teachers   my   years in the teaching profession lead me to believe that bromwell high  s satire is much closer to reality than is  teachers   the scramble to survive financially  the insightful students who can see right through their pathetic teachers  pomp  the pettiness of the whole situation  all remind me of the schools i knew and their students  when i saw the episode in which a student repeatedly tried to burn down the school  i immediately recalled          at           high  a classic line inspector i  m here to sack one of your teachers  student welcome to bromwell high  i expect that many adults of my age think that bromwell high is far fetched  what a pity that it isn  t   story of a man who has unnatural feelings for a pig  starts out with a opening scene that is a terrific example of absurd comedy  a formal orchestra audience is turned into an insane  violent mob'"
      ]
     },
     "execution_count": 38,
     "metadata": {},
     "output_type": "execute_result"
    }
   ],
   "source": [
    "text[:1000]"
   ]
  },
  {
   "cell_type": "code",
   "execution_count": 39,
   "metadata": {},
   "outputs": [
    {
     "data": {
      "text/plain": [
       "['bromwell', 'high', 'is', 'a', 'cartoon', 'comedy', 'it', 'ran', 'at', 'the']"
      ]
     },
     "execution_count": 39,
     "metadata": {},
     "output_type": "execute_result"
    }
   ],
   "source": [
    "word[:10]"
   ]
  },
  {
   "cell_type": "markdown",
   "metadata": {},
   "source": [
    "##### Now need to encode the words within a word embedding which will convert the words to intergers and pass it to the neural network for training\n",
    "##### to do this the words need to be created into dictionaries and mapped to integers"
   ]
  },
  {
   "cell_type": "code",
   "execution_count": 40,
   "metadata": {},
   "outputs": [],
   "source": [
    "from collections import Counter\n",
    "counts = Counter(word)\n",
    "vocab = sorted(counts,key=counts.get,reverse=True)\n",
    "vocab_to_int = {word: i for i, word in enumerate(vocab,1)}\n",
    "reviews_intergers = []\n",
    "for each in reviews:\n",
    "    reviews_intergers.append([vocab_to_int[word] for word in each.split()])"
   ]
  },
  {
   "cell_type": "markdown",
   "metadata": {},
   "source": [
    "##### Now need to encode the labels for positive and negative reviews using the label dataset"
   ]
  },
  {
   "cell_type": "code",
   "execution_count": 42,
   "metadata": {},
   "outputs": [],
   "source": [
    "labels = labels.split('\\n')\n",
    "labels = np.array([1 if each =='positive' else 0 for each in labels])"
   ]
  },
  {
   "cell_type": "code",
   "execution_count": 43,
   "metadata": {},
   "outputs": [
    {
     "name": "stdout",
     "output_type": "stream",
     "text": [
      "Zero-length reviews: 1\n",
      "Maximum review length: 2514\n"
     ]
    }
   ],
   "source": [
    "review_len = Counter([len(x) for x in reviews_intergers])\n",
    "print(\"Zero-length reviews: {}\".format(review_len[0]))\n",
    "print(\"Maximum review length: {}\".format(max(review_len)))"
   ]
  },
  {
   "cell_type": "markdown",
   "metadata": {},
   "source": [
    "##### need to remove 0 length review as to clean the dataset before training"
   ]
  },
  {
   "cell_type": "code",
   "execution_count": 44,
   "metadata": {},
   "outputs": [
    {
     "data": {
      "text/plain": [
       "25000"
      ]
     },
     "execution_count": 44,
     "metadata": {},
     "output_type": "execute_result"
    }
   ],
   "source": [
    "non_zero_idx = [ii for ii, review in enumerate(reviews_intergers) if len(review) != 0]\n",
    "len(non_zero_idx)"
   ]
  },
  {
   "cell_type": "code",
   "execution_count": 45,
   "metadata": {},
   "outputs": [],
   "source": [
    "reviews_intergers = [reviews_intergers[ii] for ii in non_zero_idx]\n",
    "labels = np.array([labels[ii] for ii in non_zero_idx])"
   ]
  },
  {
   "cell_type": "markdown",
   "metadata": {},
   "source": [
    "##### now need to create array of features for the data passing into the network"
   ]
  },
  {
   "cell_type": "code",
   "execution_count": 47,
   "metadata": {},
   "outputs": [],
   "source": [
    "sequence_length = 200\n",
    "features = np.zeros((len(reviews_intergers), sequence_length), dtype=int)\n",
    "for i, row in enumerate(reviews_intergers):\n",
    "    features[i, -len(row):] = np.array(row)[:sequence_length]"
   ]
  },
  {
   "cell_type": "code",
   "execution_count": 48,
   "metadata": {},
   "outputs": [
    {
     "data": {
      "text/plain": [
       "array([[    0,     0,     0,     0,     0,     0,     0,     0,     0,\n",
       "            0,     0,     0,     0,     0,     0,     0,     0,     0,\n",
       "            0,     0,     0,     0,     0,     0,     0,     0,     0,\n",
       "            0,     0,     0,     0,     0,     0,     0,     0,     0,\n",
       "            0,     0,     0,     0,     0,     0,     0,     0,     0,\n",
       "            0,     0,     0,     0,     0,     0,     0,     0,     0,\n",
       "            0,     0,     0,     0,     0,     0, 21696,   308,     6,\n",
       "            3,  1051,   207,     8,  2138,    32,     1,   171,    57,\n",
       "           15,    49,    81,  5833,    44,   382,   110,   140,    15,\n",
       "         5221,    60,   154,     9,     1,  5019,  5882,   475,    71,\n",
       "            5,   260,    12, 21696,   308,    13,  1981,     6,    74,\n",
       "         2397],\n",
       "       [    0,     0,     0,     0,     0,     0,     0,     0,     0,\n",
       "            0,     0,     0,     0,     0,     0,     0,     0,     0,\n",
       "            0,     0,     0,     0,     0,     0,     0,     0,     0,\n",
       "            0,     0,     0,     0,     0,     0,     0,     0,     0,\n",
       "            0,     0,     0,     0,     0,     0,     0,     0,     0,\n",
       "            0,     0,     0,     0,     0,     0,     0,     0,     0,\n",
       "            0,     0,     0,     0,     0,     0,     0,     0,     0,\n",
       "            0,     0,     0,     0,     0,     0,     0,     0,     0,\n",
       "            0,     0,     0,     0,     0,     0,     0,     0,     0,\n",
       "            0,     0,     0,     0,     0,    63,     4,     3,   125,\n",
       "           36,    47,  7518,  1398,    16,     3,  4204,   505,    45,\n",
       "           17],\n",
       "       [24091,    42, 50915,    15,   706, 17882,  3407,    47,    77,\n",
       "           35,  1822,    16,   154,    19,   114,     3,  1307,     5,\n",
       "          336,   147,    22,     1,   857,    12,    70,   281,  1171,\n",
       "          399,    36,   120,   283,    38,   169,     5,   382,   158,\n",
       "           42,  2279,    16,     1,   541,    90,    78,   102,     4,\n",
       "            1,  3261,    15,    43,     3,   407,  1069,   136,  8118,\n",
       "           44,   182,   140,    15,  3055,     1,   321,    22,  4865,\n",
       "        26922,   346,     5,  3091,  2095,     1, 19630, 18357,    42,\n",
       "         8118,    46,    33,   236,    29,   370,     5,   130,    56,\n",
       "           22,     1,  1929,     7,     7,    19,    48,    46,    21,\n",
       "           70,   344,     3,  2102,     5,   408,    22,     1,  1929,\n",
       "           16],\n",
       "       [ 4538,   505,    15,     3,  3350,   162,  8427,  1652,     6,\n",
       "         4867,    56,    17,  4524,  5640,   140, 11854,     5,   996,\n",
       "         4957,  2943,  4462,   566,  1199,    36,     6,  1518,    96,\n",
       "            3,   744,     4, 27529,    13,     5,    27,  3461,     9,\n",
       "        10745,     4,     8,   111,  3023,     5,     1,  1028,    15,\n",
       "            3,  4420,    82,    22,  2057,     6,  4462,   538,  2775,\n",
       "         7130, 42112,    41,   463,     1,  8427, 65217,   302,   123,\n",
       "           15,  4248,    19,  1669,   922,     1,  1652,     6,  6173,\n",
       "        20757,    34,     1,   980,  1756, 23009,   646, 24610,    27,\n",
       "          106, 11895,    13, 14452, 15423, 18427,  2464,   466, 21293,\n",
       "           36,  3274,     1,  6372,  1020,    45,    17,  2703,  2502,\n",
       "           33],\n",
       "       [    0,     0,     0,     0,     0,     0,     0,     0,     0,\n",
       "            0,     0,     0,     0,     0,     0,     0,     0,     0,\n",
       "            0,     0,     0,     0,     0,     0,     0,     0,     0,\n",
       "            0,     0,     0,     0,     0,     0,     0,     0,     0,\n",
       "            0,     0,     0,     0,     0,     0,     0,     0,     0,\n",
       "            0,     0,     0,     0,     0,   520,   119,   113,    34,\n",
       "        17014,  1818,  3759,   117,   885, 21697,   721,    10,    28,\n",
       "          124,   108,     2,   115,   137,     9,  1626,  7699,    26,\n",
       "          330,     5,   590,     1,  6194,    22,   386,     6,     3,\n",
       "          349,    15,    50,    15,   231,     9,  7551, 11499,     1,\n",
       "          191,    22,  9012,     6,    82,   881,   101,   111,  3600,\n",
       "            4],\n",
       "       [    0,     0,     0,     0,     0,     0,     0,     0,     0,\n",
       "            0,     0,     0,     0,     0,     0,     0,     0,     0,\n",
       "            0,     0,     0,     0,     0,     0,     0,     0,     0,\n",
       "            0,     0,     0,     0,     0,     0,     0,     0,     0,\n",
       "            0,     0,     0,     0,     0,     0,     0,     0,     0,\n",
       "            0,     0,     0,     0,     0,     0,     0,     0,     0,\n",
       "           11,    20,  3652,   141,    10,   423,    23,   272,    60,\n",
       "         4389,    22,    32,    84,  3299,    22,     1,   172,     4,\n",
       "            1,   952,   506,    11,  5003,  5387,     5,   574,     4,\n",
       "         1154,    54,    53,  5328,     1,   261,    17,    41,   952,\n",
       "          125,    59,     1,   712,   137,   379,   627,    15,   111,\n",
       "         1511],\n",
       "       [    0,     0,     0,     0,     0,     0,     0,     0,     0,\n",
       "            0,     0,     0,     0,     0,     0,     0,     0,     0,\n",
       "            0,     0,     0,     0,     0,     0,     0,     0,     0,\n",
       "            0,     0,     0,     0,     0,     0,     0,     0,     0,\n",
       "            0,     0,     0,     0,     0,     0,     0,     0,     0,\n",
       "            0,     0,     0,     0,     0,     0,     0,     0,     0,\n",
       "            0,     0,     0,     0,     0,     0,     0,     0,     0,\n",
       "            0,     0,     0,     0,     0,     0,     0,     0,     0,\n",
       "            0,     0,     0,     0,    11,     6,   692,     1,    90,\n",
       "         2158,    20, 11726,     1,  2826,  5238,   249,    92,  3010,\n",
       "            8,   126,    24,   200,     3,   802,   634,     4, 24091,\n",
       "         1001],\n",
       "       [    0,     0,     0,     0,     0,     0,     0,     0,     0,\n",
       "            0,     0,     0,     0,     0,     0,     0,     0,     0,\n",
       "            0,     0,     0,     0,     0,     0,     0,     0,     0,\n",
       "            0,     0,     0,     0,     0,     0,     0,     0,     0,\n",
       "            0,     0,     0,     0,     0,     0,     0,     0,     0,\n",
       "            0,     0,   786,   295,    10,   122,    11,     6,   419,\n",
       "            5,    29,    35,   482,    20,    19,  1282,    33,   142,\n",
       "           28,  2665,    45,  1841,    32,     1,  2793,    37,    78,\n",
       "           97,  2443,    67,  3956,    45,     2,    24,   105,   256,\n",
       "            1,   134,  1572,     2, 12673,   452,    14,   319,    11,\n",
       "           63,     6,    98,  1323,     5,   105,     1,  3766,     4,\n",
       "            3],\n",
       "       [    0,     0,     0,     0,     0,     0,     0,     0,     0,\n",
       "            0,     0,     0,     0,     0,     0,     0,     0,     0,\n",
       "            0,     0,     0,     0,     0,     0,     0,     0,     0,\n",
       "            0,     0,     0,     0,     0,     0,     0,     0,     0,\n",
       "            0,     0,     0,     0,     0,     0,     0,     0,     0,\n",
       "            0,     0,     0,     0,     0,     0,     0,     0,     0,\n",
       "            0,     0,     0,     0,     0,     0,     0,     0,     0,\n",
       "            0,     0,     0,     0,     0,     0,     0,     0,     0,\n",
       "            0,     0,     0,     0,     0,     0,     0,    11,     6,\n",
       "           24,     1,   779,  3700,  2826,    20,     8,    14,    74,\n",
       "          325,  2732,    73,    90,     4,    27,    99,     2,   165,\n",
       "           68],\n",
       "       [   54,    10,    14,   116,    60,   798,   552,    71,   364,\n",
       "            5,     1,   730,     5,    66,  8100,     8,    14,    30,\n",
       "            4,   109,    99,    10,   293,    17,    60,   798,    19,\n",
       "           11,    14,     1,    64,    30,    69,  2499,    45,     4,\n",
       "          234,    93,    10,    68,   114,   108,  8100,   363,    43,\n",
       "         1009,     2,    10,    97,    28,  1432,    45,     1,   357,\n",
       "            4,    60,   110,   205,     8,    48,     3,  1930, 10894,\n",
       "            2,  2126,   354,   412,     4,    13,  6647,     2,  2975,\n",
       "         5150,  2132,  1366,     6,    30,     4,    60,   502,   876,\n",
       "           19,  8100,     6,    34,   227,     1,   247,   412,     4,\n",
       "          582,     4,    27,   599,     9,     1, 13894,   397,     4,\n",
       "        14479]])"
      ]
     },
     "execution_count": 48,
     "metadata": {},
     "output_type": "execute_result"
    }
   ],
   "source": [
    "features[:10,:100]"
   ]
  },
  {
   "cell_type": "markdown",
   "metadata": {},
   "source": [
    "##### Training and validation split"
   ]
  },
  {
   "cell_type": "code",
   "execution_count": 49,
   "metadata": {},
   "outputs": [
    {
     "name": "stdout",
     "output_type": "stream",
     "text": [
      "\t\t\tFeature Shapes:\n",
      "Train set: \t\t(20000, 200) \n",
      "Validation set: \t(2500, 200) \n",
      "Test set: \t\t(2500, 200)\n"
     ]
    }
   ],
   "source": [
    "split_percentage = 0.8\n",
    "split_idx = int(len(features)*split_percentage)\n",
    "train_x, val_x = features[:split_idx], features[split_idx:]\n",
    "train_y, val_y = labels[:split_idx], labels[split_idx:]\n",
    "\n",
    "test_idx = int(len(val_x)*0.5)\n",
    "val_x, test_x = val_x[:test_idx], val_x[test_idx:]\n",
    "val_y, test_y = val_y[:test_idx], val_y[test_idx:]\n",
    "\n",
    "print(\"\\t\\t\\tFeature Shapes:\")\n",
    "print(\"Train set: \\t\\t{}\".format(train_x.shape), \n",
    "      \"\\nValidation set: \\t{}\".format(val_x.shape),\n",
    "      \"\\nTest set: \\t\\t{}\".format(test_x.shape))"
   ]
  },
  {
   "cell_type": "markdown",
   "metadata": {},
   "source": [
    "##### Build the neural network"
   ]
  },
  {
   "cell_type": "code",
   "execution_count": 50,
   "metadata": {},
   "outputs": [],
   "source": [
    "lstm_size = 256\n",
    "lstm_layers = 1\n",
    "batch_size = 500\n",
    "learning_rate = 0.001"
   ]
  },
  {
   "cell_type": "code",
   "execution_count": 51,
   "metadata": {},
   "outputs": [],
   "source": [
    "n_words = len(vocab_to_int) + 1\n",
    "graph = tf.Graph()\n",
    "with graph.as_default():\n",
    "    inputs = tf.placeholder(tf.int32,[None,None])\n",
    "    labels = tf.placeholder(tf.int32, [None,None])\n",
    "    keep_prob = tf.placeholder(tf.float32)\n"
   ]
  },
  {
   "cell_type": "markdown",
   "metadata": {},
   "source": [
    "##### Add the embedding layer as it is much more efficient than one-hot encoding and the embedding layer is used as a lookup table for the model when training and testing"
   ]
  },
  {
   "cell_type": "code",
   "execution_count": 52,
   "metadata": {},
   "outputs": [],
   "source": [
    "embedding_size = 300\n",
    "\n",
    "with graph.as_default():\n",
    "    embedding = tf.Variable(tf.random_uniform((n_words, embedding_size), -1,1))\n",
    "    embed = tf.nn.embedding_lookup(embedding,inputs)"
   ]
  },
  {
   "cell_type": "markdown",
   "metadata": {},
   "source": [
    "##### Now create the neural network graph model with the LSTM cells"
   ]
  },
  {
   "cell_type": "code",
   "execution_count": 53,
   "metadata": {},
   "outputs": [],
   "source": [
    "with graph.as_default():\n",
    "    lstm = tf.contrib.rnn.BasicLSTMCell(lstm_size)\n",
    "    dropout = tf.contrib.rnn.DropoutWrapper(lstm,output_keep_prob=keep_prob)\n",
    "    cell=tf.contrib.rnn.MultiRNNCell([dropout]*lstm_layers)\n",
    "    initial_state = cell.zero_state(batch_size,tf.float32)\n",
    "    \n",
    "    outputs, final_state = tf.nn.dynamic_rnn(cell, embed,\n",
    "                                             initial_state=initial_state)\n",
    "    \n",
    "    predictions = tf.contrib.layers.fully_connected(outputs[:, -1], 1, activation_fn=tf.sigmoid)\n",
    "    \n",
    "    cost = tf.losses.mean_squared_error(labels, predictions)\n",
    "    \n",
    "    optimizer = tf.train.AdamOptimizer(learning_rate).minimize(cost)\n"
   ]
  },
  {
   "cell_type": "markdown",
   "metadata": {},
   "source": [
    "##### Validation rules"
   ]
  },
  {
   "cell_type": "code",
   "execution_count": 54,
   "metadata": {},
   "outputs": [],
   "source": [
    "with graph.as_default():\n",
    "    correct_pred = tf.equal(tf.cast(tf.round(predictions), tf.int32), labels)\n",
    "    accuracy = tf.reduce_mean(tf.cast(correct_pred, tf.float32))"
   ]
  },
  {
   "cell_type": "markdown",
   "metadata": {},
   "source": [
    "##### Batching the data for training"
   ]
  },
  {
   "cell_type": "code",
   "execution_count": 55,
   "metadata": {},
   "outputs": [],
   "source": [
    "def batches(x,y,batch_size=100):\n",
    "    num_batches = len(x)//batch_size\n",
    "    x,y = x[:num_batches*batch_size], y[:num_batches*batch_size]\n",
    "    for i in range(0,len(x), batch_size):\n",
    "        yield x[i:i+batch_size], y[i:i+batch_size]"
   ]
  },
  {
   "cell_type": "code",
   "execution_count": 56,
   "metadata": {},
   "outputs": [
    {
     "name": "stdout",
     "output_type": "stream",
     "text": [
      "Epoch: 0/10 Iteration: 10 Train loss: 0.243\n",
      "Epoch: 0/10 Iteration: 20 Train loss: 0.220\n",
      "Epoch: 0/10 Iteration: 30 Train loss: 0.208\n",
      "Epoch: 0/10 Iteration: 40 Train loss: 0.187\n",
      "Epoch: 1/10 Iteration: 50 Train loss: 0.207\n",
      "Val acc: 0.714\n",
      "Epoch: 1/10 Iteration: 60 Train loss: 0.145\n",
      "Epoch: 1/10 Iteration: 70 Train loss: 0.176\n",
      "Epoch: 1/10 Iteration: 80 Train loss: 0.148\n",
      "Epoch: 2/10 Iteration: 90 Train loss: 0.283\n",
      "Epoch: 2/10 Iteration: 100 Train loss: 0.243\n",
      "Val acc: 0.544\n",
      "Epoch: 2/10 Iteration: 110 Train loss: 0.195\n",
      "Epoch: 2/10 Iteration: 120 Train loss: 0.133\n",
      "Epoch: 3/10 Iteration: 130 Train loss: 0.150\n",
      "Epoch: 3/10 Iteration: 140 Train loss: 0.101\n",
      "Epoch: 3/10 Iteration: 150 Train loss: 0.106\n",
      "Val acc: 0.796\n",
      "Epoch: 3/10 Iteration: 160 Train loss: 0.099\n",
      "Epoch: 4/10 Iteration: 170 Train loss: 0.121\n",
      "Epoch: 4/10 Iteration: 180 Train loss: 0.091\n",
      "Epoch: 4/10 Iteration: 190 Train loss: 0.177\n",
      "Epoch: 4/10 Iteration: 200 Train loss: 0.182\n",
      "Val acc: 0.796\n",
      "Epoch: 5/10 Iteration: 210 Train loss: 0.132\n",
      "Epoch: 5/10 Iteration: 220 Train loss: 0.090\n",
      "Epoch: 5/10 Iteration: 230 Train loss: 0.131\n",
      "Epoch: 5/10 Iteration: 240 Train loss: 0.107\n",
      "Epoch: 6/10 Iteration: 250 Train loss: 0.100\n",
      "Val acc: 0.813\n",
      "Epoch: 6/10 Iteration: 260 Train loss: 0.075\n",
      "Epoch: 6/10 Iteration: 270 Train loss: 0.082\n",
      "Epoch: 6/10 Iteration: 280 Train loss: 0.062\n",
      "Epoch: 7/10 Iteration: 290 Train loss: 0.073\n",
      "Epoch: 7/10 Iteration: 300 Train loss: 0.063\n",
      "Val acc: 0.806\n",
      "Epoch: 7/10 Iteration: 310 Train loss: 0.069\n",
      "Epoch: 7/10 Iteration: 320 Train loss: 0.045\n",
      "Epoch: 8/10 Iteration: 330 Train loss: 0.048\n",
      "Epoch: 8/10 Iteration: 340 Train loss: 0.047\n",
      "Epoch: 8/10 Iteration: 350 Train loss: 0.070\n",
      "Val acc: 0.786\n",
      "Epoch: 8/10 Iteration: 360 Train loss: 0.061\n",
      "Epoch: 9/10 Iteration: 370 Train loss: 0.046\n",
      "Epoch: 9/10 Iteration: 380 Train loss: 0.056\n",
      "Epoch: 9/10 Iteration: 390 Train loss: 0.059\n",
      "Epoch: 9/10 Iteration: 400 Train loss: 0.030\n",
      "Val acc: 0.826\n"
     ]
    }
   ],
   "source": [
    "epochs = 10\n",
    "\n",
    "with graph.as_default():\n",
    "    saver = tf.train.Saver()\n",
    "\n",
    "with tf.Session(graph=graph) as sess:\n",
    "    sess.run(tf.global_variables_initializer())\n",
    "    iteration = 1\n",
    "    for e in range(epochs):\n",
    "        state = sess.run(initial_state)\n",
    "        \n",
    "        for i, (x, y) in enumerate(batches(train_x, train_y, batch_size), 1):\n",
    "            feed = {inputs: x,\n",
    "                    labels: y[:, None],\n",
    "                    keep_prob: 0.5,\n",
    "                    initial_state: state}\n",
    "            loss, state, _ = sess.run([cost, final_state, optimizer], feed_dict=feed)\n",
    "            \n",
    "            if iteration%10==0:\n",
    "                print(\"Epoch: {}/{}\".format(e, epochs),\n",
    "                      \"Iteration: {}\".format(iteration),\n",
    "                      \"Train loss: {:.3f}\".format(loss))\n",
    "\n",
    "            if iteration%50==0:\n",
    "                val_acc = []\n",
    "                val_state = sess.run(cell.zero_state(batch_size, tf.float32))\n",
    "                for x, y in batches(val_x, val_y, batch_size):\n",
    "                    feed = {inputs: x,\n",
    "                            labels: y[:, None],\n",
    "                            keep_prob: 1,\n",
    "                            initial_state: val_state}\n",
    "                    batch_acc, val_state = sess.run([accuracy, final_state], feed_dict=feed)\n",
    "                    val_acc.append(batch_acc)\n",
    "                print(\"Val acc: {:.3f}\".format(np.mean(val_acc)))\n",
    "            iteration +=1\n",
    "    saver.save(sess, \"checkpoints/sentiment.ckpt\")"
   ]
  },
  {
   "cell_type": "code",
   "execution_count": 57,
   "metadata": {},
   "outputs": [
    {
     "name": "stdout",
     "output_type": "stream",
     "text": [
      "INFO:tensorflow:Restoring parameters from checkpoints\\sentiment.ckpt\n",
      "Test accuracy: 0.814\n"
     ]
    }
   ],
   "source": [
    "test_acc = []\n",
    "with tf.Session(graph=graph) as sess:\n",
    "    saver.restore(sess, tf.train.latest_checkpoint('checkpoints'))\n",
    "    test_state = sess.run(cell.zero_state(batch_size, tf.float32))\n",
    "    for ii, (x, y) in enumerate(batches(test_x, test_y, batch_size), 1):\n",
    "        feed = {inputs: x,\n",
    "                labels: y[:, None],\n",
    "                keep_prob: 1,\n",
    "                initial_state: test_state}\n",
    "        batch_acc, test_state = sess.run([accuracy, final_state], feed_dict=feed)\n",
    "        test_acc.append(batch_acc)\n",
    "    print(\"Test accuracy: {:.3f}\".format(np.mean(test_acc)))"
   ]
  },
  {
   "cell_type": "markdown",
   "metadata": {},
   "source": [
    "##### Model is bouncing around with training accuracy, and also having some trouble converging, may need some more work in both the amount of data, as well as some of the model architecture"
   ]
  },
  {
   "cell_type": "code",
   "execution_count": null,
   "metadata": {},
   "outputs": [],
   "source": []
  }
 ],
 "metadata": {
  "kernelspec": {
   "display_name": "Python 3",
   "language": "python",
   "name": "python3"
  },
  "language_info": {
   "codemirror_mode": {
    "name": "ipython",
    "version": 3
   },
   "file_extension": ".py",
   "mimetype": "text/x-python",
   "name": "python",
   "nbconvert_exporter": "python",
   "pygments_lexer": "ipython3",
   "version": "3.5.5"
  }
 },
 "nbformat": 4,
 "nbformat_minor": 2
}
